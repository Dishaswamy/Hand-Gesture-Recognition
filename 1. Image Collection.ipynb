{
 "cells": [
  {
   "cell_type": "markdown",
   "metadata": {},
   "source": [
    "# 1. Import Dependencies"
   ]
  },
  {
   "cell_type": "code",
   "execution_count": 7,
   "metadata": {},
   "outputs": [
    {
     "name": "stdout",
     "output_type": "stream",
     "text": [
      "Requirement already satisfied: opencv-python in /Users/cdisha/anaconda3/lib/python3.10/site-packages (4.9.0.80)\r\n",
      "Requirement already satisfied: numpy>=1.21.2 in /Users/cdisha/anaconda3/lib/python3.10/site-packages (from opencv-python) (1.23.5)\r\n"
     ]
    }
   ],
   "source": [
    "!pip install opencv-python"
   ]
  },
  {
   "cell_type": "code",
   "execution_count": 8,
   "metadata": {},
   "outputs": [],
   "source": [
    "# Import opencv\n",
    "import cv2 \n",
    "\n",
    "# Import uuid\n",
    "import uuid\n",
    "\n",
    "# Import Operating System\n",
    "import os\n",
    "\n",
    "# Import time\n",
    "import time"
   ]
  },
  {
   "cell_type": "markdown",
   "metadata": {},
   "source": [
    "# 2. Define Images to Collect"
   ]
  },
  {
   "cell_type": "code",
   "execution_count": 3,
   "metadata": {},
   "outputs": [],
   "source": [
    "labels = ['thumbsup', 'thumbsdown', 'thankyou', 'livelong']\n",
    "number_imgs = 5"
   ]
  },
  {
   "cell_type": "markdown",
   "metadata": {},
   "source": [
    "# 3. Setup Folders "
   ]
  },
  {
   "cell_type": "code",
   "execution_count": 4,
   "metadata": {},
   "outputs": [],
   "source": [
    "IMAGES_PATH = os.path.join('Tensorflow', 'workspace', 'images', 'collectedimages')"
   ]
  },
  {
   "cell_type": "code",
   "execution_count": 9,
   "metadata": {},
   "outputs": [],
   "source": [
    "if not os.path.exists(IMAGES_PATH):\n",
    "    if os.name == 'posix':\n",
    "        !mkdir -p {IMAGES_PATH}\n",
    "for label in labels:\n",
    "    path = os.path.join(IMAGES_PATH, label)\n",
    "    if not os.path.exists(path):\n",
    "        !mkdir {path}"
   ]
  },
  {
   "cell_type": "markdown",
   "metadata": {},
   "source": [
    "# 4. Capture Images"
   ]
  },
  {
   "cell_type": "code",
   "execution_count": 11,
   "metadata": {},
   "outputs": [
    {
     "name": "stdout",
     "output_type": "stream",
     "text": [
      "Collecting images for thumbsup\n",
      "Collecting image 0\n",
      "Collecting image 1\n",
      "Collecting image 2\n",
      "Collecting image 3\n",
      "Collecting image 4\n",
      "Collecting images for thumbsdown\n",
      "Collecting image 0\n",
      "Collecting image 1\n",
      "Collecting image 2\n",
      "Collecting image 3\n",
      "Collecting image 4\n",
      "Collecting images for thankyou\n",
      "Collecting image 0\n",
      "Collecting image 1\n",
      "Collecting image 2\n",
      "Collecting image 3\n",
      "Collecting image 4\n",
      "Collecting images for livelong\n",
      "Collecting image 0\n",
      "Collecting image 1\n",
      "Collecting image 2\n",
      "Collecting image 3\n",
      "Collecting image 4\n"
     ]
    }
   ],
   "source": [
    "for label in labels:\n",
    "    cap = cv2.VideoCapture(0) # connects web cam\n",
    "    print('Collecting images for {}'.format(label))\n",
    "    time.sleep(5)\n",
    "    for imgnum in range(number_imgs):\n",
    "        print('Collecting image {}'.format(imgnum))\n",
    "        ret, frame = cap.read()\n",
    "        imgname = os.path.join(IMAGES_PATH,label,label+'.'+'{}.jpg'.format(str(uuid.uuid1())))\n",
    "        cv2.imwrite(imgname, frame)\n",
    "        cv2.imshow('frame', frame)\n",
    "        time.sleep(2)\n",
    "\n",
    "        if cv2.waitKey(1) & 0xFF == ord('q'):\n",
    "            break\n",
    "cap.release()\n",
    "cv2.destroyAllWindows()"
   ]
  },
  {
   "cell_type": "markdown",
   "metadata": {},
   "source": [
    "# 5. Image Labelling"
   ]
  },
  {
   "cell_type": "code",
   "execution_count": 12,
   "metadata": {},
   "outputs": [
    {
     "name": "stdout",
     "output_type": "stream",
     "text": [
      "Requirement already satisfied: pyqt5 in /Users/cdisha/anaconda3/lib/python3.10/site-packages (5.15.10)\n",
      "Requirement already satisfied: lxml in /Users/cdisha/anaconda3/lib/python3.10/site-packages (4.9.1)\n",
      "Collecting lxml\n",
      "  Downloading lxml-5.2.1-cp310-cp310-macosx_10_9_x86_64.whl.metadata (3.4 kB)\n",
      "Requirement already satisfied: PyQt5-sip<13,>=12.13 in /Users/cdisha/anaconda3/lib/python3.10/site-packages (from pyqt5) (12.13.0)\n",
      "Downloading lxml-5.2.1-cp310-cp310-macosx_10_9_x86_64.whl (4.6 MB)\n",
      "\u001b[2K   \u001b[90m━━━━━━━━━━━━━━━━━━━━━━━━━━━━━━━━━━━━━━━━\u001b[0m \u001b[32m4.6/4.6 MB\u001b[0m \u001b[31m3.9 MB/s\u001b[0m eta \u001b[36m0:00:00\u001b[0m00:01\u001b[0m00:01\u001b[0m\n",
      "\u001b[?25hInstalling collected packages: lxml\n",
      "  Attempting uninstall: lxml\n",
      "    Found existing installation: lxml 4.9.1\n",
      "    Uninstalling lxml-4.9.1:\n",
      "      Successfully uninstalled lxml-4.9.1\n",
      "Successfully installed lxml-5.2.1\n"
     ]
    }
   ],
   "source": [
    "!pip install --upgrade pyqt5 lxml"
   ]
  },
  {
   "cell_type": "code",
   "execution_count": 21,
   "metadata": {},
   "outputs": [],
   "source": [
    "LABELIMG_PATH = os.path.join('Tensorflow', 'labeling')"
   ]
  },
  {
   "cell_type": "code",
   "execution_count": 24,
   "metadata": {},
   "outputs": [],
   "source": [
    "if not os.path.exists(LABELIMG_PATH):\n",
    "    !mkdir {LABELIMG_PATH}\n",
    "    !git clone https://github.com/tzutalin/labelImg {LABELIMG_PATH}"
   ]
  },
  {
   "cell_type": "code",
   "execution_count": 26,
   "metadata": {},
   "outputs": [
    {
     "name": "stdout",
     "output_type": "stream",
     "text": [
      "pyrcc5 -o libs/resources.py resources.qrc\r\n"
     ]
    }
   ],
   "source": [
    "if os.name == 'posix':\n",
    "    !cd {LABELIMG_PATH} && make qt5py3"
   ]
  },
  {
   "cell_type": "code",
   "execution_count": 27,
   "metadata": {},
   "outputs": [
    {
     "name": "stdout",
     "output_type": "stream",
     "text": [
      "Cancel creation.\n",
      "Image:/Users/cdisha/Desktop/object detection /TFODCourse/Tensorflow/workspace/images/collectedimages/livelong/livelong.e9b463c8-0dc3-11ef-93b7-acde48001122.jpg -> Annotation:/Users/cdisha/Desktop/object detection /TFODCourse/Tensorflow/workspace/images/collectedimages/livelong/livelong.e9b463c8-0dc3-11ef-93b7-acde48001122.xml\n",
      "Image:/Users/cdisha/Desktop/object detection /TFODCourse/Tensorflow/workspace/images/collectedimages/livelong/livelong.e73e62a6-0dc3-11ef-93b7-acde48001122.jpg -> Annotation:/Users/cdisha/Desktop/object detection /TFODCourse/Tensorflow/workspace/images/collectedimages/livelong/livelong.e73e62a6-0dc3-11ef-93b7-acde48001122.xml\n",
      "Image:/Users/cdisha/Desktop/object detection /TFODCourse/Tensorflow/workspace/images/collectedimages/livelong/livelong.e8795a5e-0dc3-11ef-93b7-acde48001122.jpg -> Annotation:/Users/cdisha/Desktop/object detection /TFODCourse/Tensorflow/workspace/images/collectedimages/livelong/livelong.e8795a5e-0dc3-11ef-93b7-acde48001122.xml\n",
      "Image:/Users/cdisha/Desktop/object detection /TFODCourse/Tensorflow/workspace/images/collectedimages/livelong/livelong.eaef6c06-0dc3-11ef-93b7-acde48001122.jpg -> Annotation:/Users/cdisha/Desktop/object detection /TFODCourse/Tensorflow/workspace/images/collectedimages/livelong/livelong.eaef6c06-0dc3-11ef-93b7-acde48001122.xml\n",
      "Image:/Users/cdisha/Desktop/object detection /TFODCourse/Tensorflow/workspace/images/collectedimages/livelong/livelong.ec2a851a-0dc3-11ef-93b7-acde48001122.jpg -> Annotation:/Users/cdisha/Desktop/object detection /TFODCourse/Tensorflow/workspace/images/collectedimages/livelong/livelong.ec2a851a-0dc3-11ef-93b7-acde48001122.xml\n",
      "Image:/Users/cdisha/Desktop/object detection /TFODCourse/Tensorflow/workspace/images/collectedimages/thankyou/thankyou.de12566a-0dc3-11ef-93b7-acde48001122.jpg -> Annotation:/Users/cdisha/Desktop/object detection /TFODCourse/Tensorflow/workspace/images/collectedimages/livelong/thankyou.de12566a-0dc3-11ef-93b7-acde48001122.xml\n",
      "Image:/Users/cdisha/Desktop/object detection /TFODCourse/Tensorflow/workspace/images/collectedimages/thankyou/thankyou.df4ec4aa-0dc3-11ef-93b7-acde48001122.jpg -> Annotation:/Users/cdisha/Desktop/object detection /TFODCourse/Tensorflow/workspace/images/collectedimages/livelong/thankyou.df4ec4aa-0dc3-11ef-93b7-acde48001122.xml\n",
      "Image:/Users/cdisha/Desktop/object detection /TFODCourse/Tensorflow/workspace/images/collectedimages/thankyou/thankyou.e1c42234-0dc3-11ef-93b7-acde48001122.jpg -> Annotation:/Users/cdisha/Desktop/object detection /TFODCourse/Tensorflow/workspace/images/collectedimages/livelong/thankyou.e1c42234-0dc3-11ef-93b7-acde48001122.xml\n",
      "Image:/Users/cdisha/Desktop/object detection /TFODCourse/Tensorflow/workspace/images/collectedimages/thankyou/thankyou.de12566a-0dc3-11ef-93b7-acde48001122.jpg -> Annotation:/Users/cdisha/Desktop/object detection /TFODCourse/Tensorflow/workspace/images/collectedimages/thankyou/thankyou.de12566a-0dc3-11ef-93b7-acde48001122.xml\n",
      "Image:/Users/cdisha/Desktop/object detection /TFODCourse/Tensorflow/workspace/images/collectedimages/thankyou/thankyou.df4ec4aa-0dc3-11ef-93b7-acde48001122.jpg -> Annotation:/Users/cdisha/Desktop/object detection /TFODCourse/Tensorflow/workspace/images/collectedimages/thankyou/thankyou.df4ec4aa-0dc3-11ef-93b7-acde48001122.xml\n",
      "Image:/Users/cdisha/Desktop/object detection /TFODCourse/Tensorflow/workspace/images/collectedimages/thankyou/thankyou.e1c42234-0dc3-11ef-93b7-acde48001122.jpg -> Annotation:/Users/cdisha/Desktop/object detection /TFODCourse/Tensorflow/workspace/images/collectedimages/thankyou/thankyou.e1c42234-0dc3-11ef-93b7-acde48001122.xml\n",
      "Image:/Users/cdisha/Desktop/object detection /TFODCourse/Tensorflow/workspace/images/collectedimages/thankyou/thankyou.e2ff6f5a-0dc3-11ef-93b7-acde48001122.jpg -> Annotation:/Users/cdisha/Desktop/object detection /TFODCourse/Tensorflow/workspace/images/collectedimages/thankyou/thankyou.e2ff6f5a-0dc3-11ef-93b7-acde48001122.xml\n",
      "Image:/Users/cdisha/Desktop/object detection /TFODCourse/Tensorflow/workspace/images/collectedimages/thankyou/thankyou.e088c1e0-0dc3-11ef-93b7-acde48001122.jpg -> Annotation:/Users/cdisha/Desktop/object detection /TFODCourse/Tensorflow/workspace/images/collectedimages/thankyou/thankyou.e088c1e0-0dc3-11ef-93b7-acde48001122.xml\n",
      "Image:/Users/cdisha/Desktop/object detection /TFODCourse/Tensorflow/workspace/images/collectedimages/thumbsdown/thumbsdown.d4e01f6e-0dc3-11ef-93b7-acde48001122.jpg -> Annotation:/Users/cdisha/Desktop/object detection /TFODCourse/Tensorflow/workspace/images/collectedimages/thumbsdown/thumbsdown.d4e01f6e-0dc3-11ef-93b7-acde48001122.xml\n",
      "Image:/Users/cdisha/Desktop/object detection /TFODCourse/Tensorflow/workspace/images/collectedimages/thumbsdown/thumbsdown.d9cd5c8a-0dc3-11ef-93b7-acde48001122.jpg -> Annotation:/Users/cdisha/Desktop/object detection /TFODCourse/Tensorflow/workspace/images/collectedimages/thumbsdown/thumbsdown.d9cd5c8a-0dc3-11ef-93b7-acde48001122.xml\n",
      "Image:/Users/cdisha/Desktop/object detection /TFODCourse/Tensorflow/workspace/images/collectedimages/thumbsdown/thumbsdown.d61b45ac-0dc3-11ef-93b7-acde48001122.jpg -> Annotation:/Users/cdisha/Desktop/object detection /TFODCourse/Tensorflow/workspace/images/collectedimages/thumbsdown/thumbsdown.d61b45ac-0dc3-11ef-93b7-acde48001122.xml\n",
      "Image:/Users/cdisha/Desktop/object detection /TFODCourse/Tensorflow/workspace/images/collectedimages/thumbsdown/thumbsdown.d891f6aa-0dc3-11ef-93b7-acde48001122.jpg -> Annotation:/Users/cdisha/Desktop/object detection /TFODCourse/Tensorflow/workspace/images/collectedimages/thumbsdown/thumbsdown.d891f6aa-0dc3-11ef-93b7-acde48001122.xml\n",
      "Image:/Users/cdisha/Desktop/object detection /TFODCourse/Tensorflow/workspace/images/collectedimages/thumbsdown/thumbsdown.d7569d54-0dc3-11ef-93b7-acde48001122.jpg -> Annotation:/Users/cdisha/Desktop/object detection /TFODCourse/Tensorflow/workspace/images/collectedimages/thumbsdown/thumbsdown.d7569d54-0dc3-11ef-93b7-acde48001122.xml\n",
      "Image:/Users/cdisha/Desktop/object detection /TFODCourse/Tensorflow/workspace/images/collectedimages/thumbsup/thumbsup.cb944b88-0dc3-11ef-93b7-acde48001122.jpg -> Annotation:/Users/cdisha/Desktop/object detection /TFODCourse/Tensorflow/workspace/images/collectedimages/thumbsup/thumbsup.cb944b88-0dc3-11ef-93b7-acde48001122.xml\n",
      "Image:/Users/cdisha/Desktop/object detection /TFODCourse/Tensorflow/workspace/images/collectedimages/thumbsup/thumbsup.ce24c2ce-0dc3-11ef-93b7-acde48001122.jpg -> Annotation:/Users/cdisha/Desktop/object detection /TFODCourse/Tensorflow/workspace/images/collectedimages/thumbsup/thumbsup.ce24c2ce-0dc3-11ef-93b7-acde48001122.xml\n",
      "Image:/Users/cdisha/Desktop/object detection /TFODCourse/Tensorflow/workspace/images/collectedimages/thumbsup/thumbsup.cf5fa834-0dc3-11ef-93b7-acde48001122.jpg -> Annotation:/Users/cdisha/Desktop/object detection /TFODCourse/Tensorflow/workspace/images/collectedimages/thumbsup/thumbsup.cf5fa834-0dc3-11ef-93b7-acde48001122.xml\n",
      "Image:/Users/cdisha/Desktop/object detection /TFODCourse/Tensorflow/workspace/images/collectedimages/thumbsup/thumbsup.d09ae3e4-0dc3-11ef-93b7-acde48001122.jpg -> Annotation:/Users/cdisha/Desktop/object detection /TFODCourse/Tensorflow/workspace/images/collectedimages/thumbsup/thumbsup.d09ae3e4-0dc3-11ef-93b7-acde48001122.xml\n",
      "Image:/Users/cdisha/Desktop/object detection /TFODCourse/Tensorflow/workspace/images/collectedimages/thumbsup/thumbsup.cce901b8-0dc3-11ef-93b7-acde48001122.jpg -> Annotation:/Users/cdisha/Desktop/object detection /TFODCourse/Tensorflow/workspace/images/collectedimages/thumbsup/thumbsup.cce901b8-0dc3-11ef-93b7-acde48001122.xml\n",
      "Image:/Users/cdisha/Desktop/object detection /TFODCourse/Tensorflow/workspace/images/collectedimages/thumbsup/thumbsup.d09ae3e4-0dc3-11ef-93b7-acde48001122.jpg -> Annotation:/Users/cdisha/Desktop/object detection /TFODCourse/Tensorflow/workspace/images/collectedimages/thumbsup/thumbsup.d09ae3e4-0dc3-11ef-93b7-acde48001122.xml\n"
     ]
    }
   ],
   "source": [
    "!cd {LABELIMG_PATH} && python labelImg.py"
   ]
  },
  {
   "cell_type": "code",
   "execution_count": null,
   "metadata": {},
   "outputs": [],
   "source": []
  }
 ],
 "metadata": {
  "kernelspec": {
   "display_name": "tfod",
   "language": "python",
   "name": "tfod"
  },
  "language_info": {
   "codemirror_mode": {
    "name": "ipython",
    "version": 3
   },
   "file_extension": ".py",
   "mimetype": "text/x-python",
   "name": "python",
   "nbconvert_exporter": "python",
   "pygments_lexer": "ipython3",
   "version": "3.10.9"
  }
 },
 "nbformat": 4,
 "nbformat_minor": 2
}
